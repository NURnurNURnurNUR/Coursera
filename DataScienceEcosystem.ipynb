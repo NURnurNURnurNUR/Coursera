{
 "cells": [
  {
   "cell_type": "markdown",
   "id": "6835fbd6-63d1-4dd6-8896-760b310436e8",
   "metadata": {},
   "source": [
    "# Data Science Tools and Ecosystem"
   ]
  },
  {
   "cell_type": "markdown",
   "id": "cd5bef96-6765-469d-ada8-d6ce593ad59b",
   "metadata": {},
   "source": [
    "**Objectives:**\n",
    "\n",
    "* List popular languages for Data Science  \n",
    "* List popular libraries for Data Science  \n",
    "* List popular Data Science Tools  \n",
    "* Examples of evaluating arithmetic expressions in Python  \n"
   ]
  },
  {
   "cell_type": "markdown",
   "id": "ddf2242e-6ce6-4c36-8f37-6ba0fc3e475a",
   "metadata": {},
   "source": [
    "## Author  \n",
    "Akerke Nurmagambetova"
   ]
  },
  {
   "cell_type": "markdown",
   "id": "23aa3626-6e2a-4972-abe6-569f9f94aaab",
   "metadata": {},
   "source": [
    "## GitHub Link: https://github.com/NURnurNURnurNUR/Coursera "
   ]
  },
  {
   "cell_type": "markdown",
   "id": "222ee4a2-a456-4566-aba4-e0cecce90d6b",
   "metadata": {},
   "source": [
    "In this notebook, Data Science Tools and Ecosystem are summarized."
   ]
  },
  {
   "cell_type": "markdown",
   "id": "6780a0bf-fb06-4b05-b215-785e6bea1eec",
   "metadata": {},
   "source": [
    "Some of the popular languages that Data Scientists use are:\n",
    "```\n",
    "1. Python\n",
    "2. R\n",
    "3. SQL\n",
    "```"
   ]
  },
  {
   "cell_type": "markdown",
   "id": "b27bb63d-011d-4147-b578-1803cda3ad70",
   "metadata": {},
   "source": [
    "Some of the commonly used libraries used by Data Scientists include:\n",
    "```\n",
    "1. Pandas\n",
    "2. NumPy\n",
    "3. Matplotlib\n",
    "4. Scikit-learn\n",
    "```"
   ]
  },
  {
   "cell_type": "markdown",
   "id": "1cbdee1b-f293-46bc-b213-a262e5c03f43",
   "metadata": {},
   "source": [
    "| Data Science Tools       |\n",
    "|--------------------------|\n",
    "| Jupyter Notebook         |\n",
    "| RStudio                  |\n",
    "| Visual Studio Code       |\n"
   ]
  },
  {
   "cell_type": "markdown",
   "id": "3731c886-8d13-412c-a9b7-c122a73e19e6",
   "metadata": {},
   "source": [
    "### Below are a few examples of evaluating arithmetic expressions in Python"
   ]
  },
  {
   "cell_type": "code",
   "execution_count": 1,
   "id": "116911d2-c014-4089-bde1-a8d1040b5489",
   "metadata": {},
   "outputs": [
    {
     "data": {
      "text/plain": [
       "17"
      ]
     },
     "execution_count": 1,
     "metadata": {},
     "output_type": "execute_result"
    }
   ],
   "source": [
    "# This a simple arithmetic expression to mutiply then add integers.\n",
    "(3*4)+5"
   ]
  },
  {
   "cell_type": "code",
   "execution_count": 2,
   "id": "16bc2da0-8c39-4976-9b5f-0cb12a13401d",
   "metadata": {},
   "outputs": [
    {
     "data": {
      "text/plain": [
       "3.3333333333333335"
      ]
     },
     "execution_count": 2,
     "metadata": {},
     "output_type": "execute_result"
    }
   ],
   "source": [
    "# This will convert 200 minutes to hours by diving by 60.\n",
    "200/60"
   ]
  }
 ],
 "metadata": {
  "kernelspec": {
   "display_name": "Python [conda env:mango]",
   "language": "python",
   "name": "conda-env-mango-py"
  },
  "language_info": {
   "codemirror_mode": {
    "name": "ipython",
    "version": 3
   },
   "file_extension": ".py",
   "mimetype": "text/x-python",
   "name": "python",
   "nbconvert_exporter": "python",
   "pygments_lexer": "ipython3",
   "version": "3.12.9"
  }
 },
 "nbformat": 4,
 "nbformat_minor": 5
}
